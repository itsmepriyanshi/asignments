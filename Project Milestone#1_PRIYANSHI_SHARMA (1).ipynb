{
 "cells": [
  {
   "cell_type": "markdown",
   "id": "cfb3be27",
   "metadata": {},
   "source": [
    "# Mile Stone 1 - Rock, Paper, Scissors"
   ]
  },
  {
   "cell_type": "code",
   "execution_count": 1,
   "id": "86bfe0f0",
   "metadata": {},
   "outputs": [],
   "source": [
    "import random"
   ]
  },
  {
   "cell_type": "code",
   "execution_count": 2,
   "id": "45982f6d",
   "metadata": {},
   "outputs": [],
   "source": [
    "# initialize variables\n",
    "user_score = 0\n",
    "computer_score = 0\n",
    "power_ups = {'Super Rock': False, 'Mega Paper': False, 'Ultra Scissors': False}\n",
    "achievements = {'First Win': False, 'Streak': False}\n",
    "leaderboard = {'Player 1': 0, 'Player 2': 0, 'Player 3': 0}"
   ]
  },
  {
   "cell_type": "code",
   "execution_count": 3,
   "id": "e79a06e4",
   "metadata": {},
   "outputs": [],
   "source": [
    "# prompts the user to select a choice for the game and ensures that the input is within the range of 1 to 3 and is an integer.\n",
    "def get_users_choice():\n",
    "    while True:\n",
    "        user_choice = input(\"Please indicate your selection by typing 1 for Rock, 2 for Paper, or 3 for Scissors. \")\n",
    "        try:\n",
    "            user_choice = int(user_choice)\n",
    "            if user_choice in [1, 2, 3]:\n",
    "                return user_choice\n",
    "            else:\n",
    "                print(\"The input provided is incorrect. Kindly input a number within the range of 1 and 3.\")\n",
    "        except ValueError:\n",
    "            print(\"The input provided is not a number. Please enter a valid number\")"
   ]
  },
  {
   "cell_type": "code",
   "execution_count": 4,
   "id": "4dc999ec",
   "metadata": {},
   "outputs": [],
   "source": [
    "# generates a random integer between 1 and 3 using ranint()\n",
    "def get_computer_choice():\n",
    "    return random.randint(1, 3)"
   ]
  },
  {
   "cell_type": "code",
   "execution_count": 5,
   "id": "a6edc6ec",
   "metadata": {},
   "outputs": [],
   "source": [
    "# This function takes in the user's and computer's choices as integers\n",
    "def print_choices(user_choice, computer_choice):\n",
    "    choices = {1: \"Rock\", 2: \"Paper\", 3: \"Scissors\"}\n",
    "    print(f\"You have chosen {choices.get(user_choice)}!\")\n",
    "    print(f\"The computer has chosen {choices.get(computer_choice)}!\")"
   ]
  },
  {
   "cell_type": "code",
   "execution_count": 6,
   "id": "f8c1c9c9",
   "metadata": {},
   "outputs": [],
   "source": [
    "# determines the winner of the game based on the classic rules of Rock, Paper, Scissors.\n",
    "def decide_winner(user_choice, computer_choice):\n",
    "    global user_score, computer_score, power_ups, achievements\n",
    "    if (user_choice == 3 and computer_choice == 1) or (user_choice == 1 and computer_choice == 2) or (user_choice == 2 and computer_choice == 3):\n",
    "        print(\"Computer wins!!\")\n",
    "        computer_score += 1\n",
    "        for power_up in power_ups:\n",
    "            power_ups[power_up] = False\n",
    "    elif (user_choice == 1 and computer_choice == 3) or (user_choice == 3 and computer_choice == 2) or (user_choice == 2 and computer_choice == 1):\n",
    "        print(\"You win! Congratulations!!\")\n",
    "        user_score += 1\n",
    "        for power_up in power_ups:\n",
    "            if not power_ups[power_up]:\n",
    "                power_ups[power_up] = True\n",
    "                print(f\"You have unlocked the {power_up} power-up!\")\n",
    "                achievements['First Win'] = True\n",
    "                if user_score == 5:\n",
    "                    achievements['Streak'] = True\n",
    "                if user_score % 3 == 0: # add joke or fun fact every 3rd win\n",
    "                    jokes_facts = [\"Rock Paper Scissors was invented in ancient China.\", \n",
    "                                   \"The World Rock Paper Scissors Society holds a championship tournament every year.\", \n",
    "                                   \"There is a version of Rock Paper Scissors called Rock Paper Scissors Lizard Spock.\", \n",
    "                                   \"Rock Paper Scissors is used to settle disputes in some legal systems.\"] #[1]\n",
    "                    print(random.choice(jokes_facts))\n",
    "    else:\n",
    "        print(\"It's a draw !!\")"
   ]
  },
  {
   "cell_type": "code",
   "execution_count": 7,
   "id": "687b06ee",
   "metadata": {},
   "outputs": [],
   "source": [
    "# indicate whether player wants to play the game again\n",
    "def play_again():\n",
    "    global user_score, computer_score\n",
    "    while True:\n",
    "        play_again_input = input(\"Do you want to play again? (Y/N) \").lower()\n",
    "        if play_again_input == 'y':\n",
    "            user_score = 0\n",
    "            computer_score = 0\n",
    "            for power_up in power_ups:\n",
    "                power_ups[power_up] = False\n",
    "            return True\n",
    "        elif play_again_input == 'n':\n",
    "            print(\"Thanks for playing! GAME ENDED\")\n",
    "            return False\n",
    "        else:\n",
    "            print(\"Invalid input. Please enter Y or N.\")\n"
   ]
  },
  {
   "cell_type": "code",
   "execution_count": 8,
   "id": "d3540f85",
   "metadata": {},
   "outputs": [],
   "source": [
    "# display current scores, power-ups, achievements, and leaderboard\n",
    "def display_stats():\n",
    "    global user_score, computer_score, power_ups, achievements, leaderboard\n",
    "    print(f\"Current score: Player - {user_score}, Computer - {computer_score}\")\n",
    "    print(\"Power-ups unlocked:\")\n",
    "    for power_up in power_ups:\n",
    "        if power_ups[power_up]:\n",
    "            print(power_up)\n",
    "    print(\"Achievements unlocked:\")\n",
    "    for achievement in achievements:\n",
    "        if achievements[achievement]:\n",
    "            print(achievement)\n",
    "    print(\"Leaderboard:\")\n",
    "    for player in leaderboard:\n",
    "        print(f\"{player}: {leaderboard[player]} points\")\n"
   ]
  },
  {
   "cell_type": "code",
   "execution_count": 9,
   "id": "0a7748cf",
   "metadata": {},
   "outputs": [],
   "source": [
    "# ask for player's name and add score to leaderboard\n",
    "def add_to_leaderboard():\n",
    "    global user_score, leaderboard\n",
    "    player_name = input(\"Please enter your name: \")\n",
    "    leaderboard[player_name] = user_score"
   ]
  },
  {
   "cell_type": "code",
   "execution_count": 10,
   "id": "c962c40f",
   "metadata": {},
   "outputs": [
    {
     "name": "stdout",
     "output_type": "stream",
     "text": [
      "Please indicate your selection by typing 1 for Rock, 2 for Paper, or 3 for Scissors. 1\n",
      "You have chosen Rock!\n",
      "The computer has chosen Paper!\n",
      "Computer wins!!\n",
      "Current score: Player - 0, Computer - 1\n",
      "Power-ups unlocked:\n",
      "Achievements unlocked:\n",
      "Leaderboard:\n",
      "Player 1: 0 points\n",
      "Player 2: 0 points\n",
      "Player 3: 0 points\n",
      "Please enter your name: dillian\n",
      "Do you want to play again? (Y/N) y\n",
      "Please indicate your selection by typing 1 for Rock, 2 for Paper, or 3 for Scissors. 2\n",
      "You have chosen Paper!\n",
      "The computer has chosen Scissors!\n",
      "Computer wins!!\n",
      "Current score: Player - 0, Computer - 1\n",
      "Power-ups unlocked:\n",
      "Achievements unlocked:\n",
      "Leaderboard:\n",
      "Player 1: 0 points\n",
      "Player 2: 0 points\n",
      "Player 3: 0 points\n",
      "dillian: 0 points\n",
      "Please enter your name: cgeug\n",
      "Do you want to play again? (Y/N) y\n",
      "Please indicate your selection by typing 1 for Rock, 2 for Paper, or 3 for Scissors. 3\n",
      "You have chosen Scissors!\n",
      "The computer has chosen Paper!\n",
      "You win! Congratulations!!\n",
      "You have unlocked the Super Rock power-up!\n",
      "You have unlocked the Mega Paper power-up!\n",
      "You have unlocked the Ultra Scissors power-up!\n",
      "Current score: Player - 1, Computer - 0\n",
      "Power-ups unlocked:\n",
      "Super Rock\n",
      "Mega Paper\n",
      "Ultra Scissors\n",
      "Achievements unlocked:\n",
      "First Win\n",
      "Leaderboard:\n",
      "Player 1: 0 points\n",
      "Player 2: 0 points\n",
      "Player 3: 0 points\n",
      "dillian: 0 points\n",
      "cgeug: 0 points\n",
      "Please enter your name: priyanshi\n",
      "Do you want to play again? (Y/N) n\n",
      "Thanks for playing! GAME ENDED\n"
     ]
    }
   ],
   "source": [
    "##### main game loop\n",
    "while True:\n",
    "    user_choice = get_users_choice()\n",
    "    computer_choice = get_computer_choice()\n",
    "    print_choices(user_choice, computer_choice)\n",
    "    decide_winner(user_choice, computer_choice)\n",
    "    display_stats()\n",
    "    add_to_leaderboard()\n",
    "    if not play_again():\n",
    "        break"
   ]
  },
  {
   "cell_type": "markdown",
   "id": "dd96dd7a",
   "metadata": {},
   "source": [
    "citation :\n",
    "  [1]  https://visual.ly/community/Infographics/gaming/winning-rock-paper-scissors-every-time"
   ]
  }
 ],
 "metadata": {
  "kernelspec": {
   "display_name": "Python 3 (ipykernel)",
   "language": "python",
   "name": "python3"
  },
  "language_info": {
   "codemirror_mode": {
    "name": "ipython",
    "version": 3
   },
   "file_extension": ".py",
   "mimetype": "text/x-python",
   "name": "python",
   "nbconvert_exporter": "python",
   "pygments_lexer": "ipython3",
   "version": "3.11.5"
  }
 },
 "nbformat": 4,
 "nbformat_minor": 5
}
